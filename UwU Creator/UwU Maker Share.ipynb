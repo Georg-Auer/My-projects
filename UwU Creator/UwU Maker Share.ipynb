{
 "cells": [
  {
   "cell_type": "markdown",
   "metadata": {},
   "source": [
    "# Make a Reddit App and Use PRAW"
   ]
  },
  {
   "cell_type": "markdown",
   "metadata": {},
   "source": [
    "Follow this guide, to set up a reddit scraper: https://towardsdatascience.com/scraping-reddit-data-1c0af3040768"
   ]
  },
  {
   "cell_type": "code",
   "execution_count": null,
   "metadata": {},
   "outputs": [],
   "source": [
    "import praw "
   ]
  },
  {
   "cell_type": "code",
   "execution_count": null,
   "metadata": {},
   "outputs": [],
   "source": [
    "reddit = praw.Reddit(client_id='XXX', \\\n",
    "                     client_secret='XXX', \\\n",
    "                     user_agent='XXX', \\\n",
    "                     username='XXX', \\\n",
    "                     password='XXX')\n",
    "\n",
    "# Fill in your credentials"
   ]
  },
  {
   "cell_type": "markdown",
   "metadata": {},
   "source": [
    "# Picture Scraper"
   ]
  },
  {
   "cell_type": "code",
   "execution_count": null,
   "metadata": {},
   "outputs": [],
   "source": [
    "import urllib.request\n",
    "import time\n",
    "from tqdm import tqdm"
   ]
  },
  {
   "cell_type": "code",
   "execution_count": null,
   "metadata": {},
   "outputs": [],
   "source": [
    "# Code stolen from here: https://stackoverflow.com/questions/55655794/save-images-from-subreddit-to-folder-python\n",
    "\n",
    "subreddit = reddit.subreddit(\"creepyasterisks\")\n",
    "\n",
    "count = 0\n",
    "# Iterate through top submissions\n",
    "for submission in tqdm(subreddit.top(limit=2)):\n",
    "    try:\n",
    "        # Get the link of the submission\n",
    "        url = str(submission.url)\n",
    "\n",
    "        # Check if the link is an image\n",
    "        if url.endswith(\"jpg\") or url.endswith(\"jpeg\") or url.endswith(\"png\"):\n",
    "\n",
    "            # Retrieve the image and save it in current folder\n",
    "            fullfilename = os.path.join(r'C:\\Users\\peter\\My Own Projects\\New folder/', f\"image{count}\")\n",
    "            # This should link to where you want to save your images\n",
    "            urllib.request.urlretrieve(url, fullfilename)\n",
    "            count += 1\n",
    "            \n",
    "    except: # If a post is deleted, it will return an error. This fixes it...\n",
    "        pass"
   ]
  },
  {
   "cell_type": "markdown",
   "metadata": {},
   "source": [
    "# Image to Text"
   ]
  },
  {
   "cell_type": "markdown",
   "metadata": {},
   "source": [
    "Follow this to install Tesseract: https://stackoverflow.com/questions/50951955/pytesseract-tesseractnotfound-error-tesseract-is-not-installed-or-its-not-i/53672281#53672281"
   ]
  },
  {
   "cell_type": "code",
   "execution_count": null,
   "metadata": {},
   "outputs": [],
   "source": [
    "from PIL import Image\n",
    "import pytesseract\n",
    "import os\n",
    "import pandas as pd"
   ]
  },
  {
   "cell_type": "code",
   "execution_count": null,
   "metadata": {},
   "outputs": [],
   "source": [
    "# Code stolen from here: https://stackoverflow.com/questions/57268251/text-extraction-from-multiple-image-files-using-python\n",
    "\n",
    "pytesseract.pytesseract.tesseract_cmd = r'C:\\Program Files\\Tesseract-OCR\\tesseract' \n",
    "# This should link to where you've installed Tesseract\n",
    "\n",
    "f = []\n",
    "t = []\n",
    "input_dir = r'C:\\Users\\peter\\My Own Projects\\New folder/'\n",
    "# This is where your images are saved\n",
    "\n",
    "for root, dirs, filenames in os.walk(input_dir): # Runs through the specified folder\n",
    "    for filename in filenames:\n",
    "        try:\n",
    "            print(filename) # This just visually shows what image is being scanned\n",
    "            f.append(filename) # Makes a pretty DataFrame later\n",
    "            img = Image.open(input_dir+ filename) # Opens file as image\n",
    "            text = pytesseract.image_to_string(img, lang = 'eng') # The magic OCR thing\n",
    "            t.append(text)\n",
    "        except:\n",
    "            continue\n",
    "\n",
    "\n",
    "scanned_df = pd.DataFrame(list(zip(f, t)),columns=['file_Name','Text']) # This is the Final DataFrame"
   ]
  },
  {
   "cell_type": "markdown",
   "metadata": {},
   "source": [
    "# Clean Up"
   ]
  },
  {
   "cell_type": "code",
   "execution_count": null,
   "metadata": {},
   "outputs": [],
   "source": [
    "import re"
   ]
  },
  {
   "cell_type": "code",
   "execution_count": null,
   "metadata": {},
   "outputs": [],
   "source": [
    "# Actually mu own code... Now we need to clean up, what the OCR software didn't get right\n",
    "# If you want to look at the raw output, the file is called 'raw_image_output'\n",
    "\n",
    "creepy = []\n",
    "for text in scanned_df[\"Text\"]:\n",
    "    text = text.replace(\"\\n\", \" \").replace(\"“\", \"*\").replace(\"”\", \"*\").replace('|', \"I\").replace('®', \"*\").replace('©', \"*\")\n",
    "    # It had a hard time with these characters\n",
    "    creepy.append(re.findall(r'[\\*].{1,49}?[\\*]+', text))\n",
    "    # This finds any string below 49 characters between two *. Like \"*Looks at you*\". Why 49 characters? It worked pretty good...\n",
    "    \n",
    "creepy_ = [x for x in creepy if x != []] # Removes empty list in the list\n",
    "\n",
    "flat_list = [] \n",
    "for sublist in creepy_: # Makes the list of lists into a single list\n",
    "    for item in sublist:\n",
    "        if item==\"*  *\":\n",
    "            item = \"*UwU*\"\n",
    "        elif item==\"* *\":\n",
    "            item = \"*owo*\"\n",
    "        # Removes empty spaces and replaces them with memes\n",
    "        flat_list.append(item)\n",
    "        \n",
    "df_flat_list = pd.DataFrame(flat_list)\n",
    "\n",
    "df_flat_list.to_csv(\"uwu_word_list\") # This saves the DataFrame for later use"
   ]
  },
  {
   "cell_type": "markdown",
   "metadata": {},
   "source": [
    "# UwU Code"
   ]
  },
  {
   "cell_type": "code",
   "execution_count": null,
   "metadata": {},
   "outputs": [],
   "source": [
    "import random \n",
    "import pandas as pd # Imports pandas again, if you haven't done before\n",
    "import pyautogui as pya\n",
    "import pyperclip\n",
    "import time"
   ]
  },
  {
   "cell_type": "code",
   "execution_count": null,
   "metadata": {},
   "outputs": [],
   "source": [
    "# If you just want to make a UwU message, copy this into Python. Make sure to download and save 'uwu_word_list'\n",
    "# to the same place, where you run your script.\n",
    "# Run the script, highlight something and it'll make it into UwU text and copy it to your clip board\n",
    "\n",
    "time.sleep(5) #Gives a 5 second delay, so you can highlight stuff\n",
    "\n",
    "def copy_clipboard():\n",
    "    pya.hotkey('ctrl', 'c')\n",
    "    time.sleep(.5) #ctrl-c is usually very fast but the program may execute faster\n",
    "    return pyperclip.paste()\n",
    "\n",
    "text = str(copy_clipboard()) #This copies what you have highlighted and makes it to a string\n",
    "\n",
    "random_message = pd.read_csv(\"uwu_word_list\")[\"0\"]\n",
    "\n",
    "def uwu(sentence): #The sentence-converter starts here\n",
    "    word_list = sentence.split()\n",
    "    for number, word in enumerate(word_list):\n",
    "        if word==\"my\":\n",
    "            word_list[number]=\"mwy\"\n",
    "        elif word==\"to\":\n",
    "            word_list[number]=\"tuwu\"\n",
    "        elif word==\"had\":\n",
    "            word_list[number]=\"hawd\"\n",
    "        elif word==\"you\":\n",
    "            word_list[number]=\"yuw\"\n",
    "        elif word==\"go\":\n",
    "            word_list[number]=\"gow\"\n",
    "        elif word==\"and\":\n",
    "            word_list[number]=\"awnd\"\n",
    "        elif word==\"have\":\n",
    "            word_list[number]=\"haw\"\n",
    "            \n",
    "        \n",
    "        else:\n",
    "            word = word.replace(\"ll\", \"w\").replace(\"r\", \"w\").replace(\"l\", \"w\").replace(\"th\", \"d\").replace(\"fu\", \"fwu\")\n",
    "            word_list[number]=word\n",
    "            \n",
    "        if random.randrange(0,11)==1:\n",
    "            word_list[number] = word[0]+\"-\"+word\n",
    "            \n",
    "        if \".\" in word:\n",
    "            word_list[number] = word_list[number] + \" \" + random_message[random.randrange(0,len(random_message))]\n",
    "        if \"!\" in word:\n",
    "            word_list[number] = word_list[number] + \" \" + random_message[random.randrange(0,len(random_message))] \n",
    "        if \"?\" in word:\n",
    "            word_list[number] = word_list[number] + \" \" + random_message[random.randrange(0,len(random_message))]\n",
    "            \n",
    "        \n",
    "    final = \" \".join(word_list)\n",
    "        \n",
    "    pyperclip.copy(str(final))\n",
    "\n",
    "uwu(text)"
   ]
  },
  {
   "cell_type": "markdown",
   "metadata": {},
   "source": [
    " \"Once upon a time dewe w-was a wovewy pwincess. *tears roll down face* But she hawd an enchantment upon hew of a feawfwuw sowt w-which couwd onwy be bwoken by wove's fiwst kiss. *tightens tie* She w-was w-wocked away in a castwe guawded by a tewwibwe fiwe-bweading dwagon. *.* Many bwave k-knights hawd attempted tuwu fwee hew fwom dis dweadfwuw pwison, b-but non pwevaiwed. *boop* She waited in de dwagon's keep in de highest woom of d-de tawest towew fow hew twue wove awnd twue wove's fiwst kiss. *gives you little wedgie* (waughs) L-Like d-dat's evew gonna happen. *giggle* What a woad of - (toiwet fwush) \""
   ]
  },
  {
   "cell_type": "markdown",
   "metadata": {},
   "source": [
    "# How to Activate the Script with a Hotkey"
   ]
  },
  {
   "cell_type": "markdown",
   "metadata": {},
   "source": [
    "If you want to activate the script using a hotkey, it's actually very simple. This is how to do it:\n",
    "\n",
    "1) Download and install autohotkey: https://autohotkey.com/download/\n",
    "\n",
    "2) Copy paste the above code (UwU Code) and put it into something like Notepad++, and then save it as a Python file somewhere you remember.\n",
    "\n",
    "3) Download 'uwu_word_list' and put it at the same location as the above code.\n",
    "\n",
    "4) Remember to also import the different packages in the script. \n",
    "\n",
    "5) Right click the python file, click \"open with\" and find where your executable file \"pythonw.exe\" (NOT 'python.exe\") is saved and use it to open the python file with it.\n",
    "\n",
    "6) Once this is done, make a new 'AutoHotkey Script' file. In this, you need to put something like:"
   ]
  },
  {
   "cell_type": "code",
   "execution_count": null,
   "metadata": {},
   "outputs": [],
   "source": [
    "^+y::\n",
    "Run, C:\\Users\\peter\\Desktop\\Temp\\Python\\UwUScript.py\n",
    "return"
   ]
  },
  {
   "cell_type": "markdown",
   "metadata": {},
   "source": [
    "\"^+y::\" is the code for your shortcut. ^ is control, + is shift and y is y. \"C:\\Users\\peter\\Desktop\\Temp\\Python\\UwUScript.py\" is where your script is saved.\n",
    "\n",
    "6). Save this file as an .ahk file. Now you can press windows+r and open 'run'. Here, write \"shell:startup\", and put your script in there. This way, your script will always be tied to the shortcut 'ctrl+shift+y'.\n",
    "\n",
    "7). If the script doesn't work, try reinstalling some of the imported packages with:"
   ]
  },
  {
   "cell_type": "code",
   "execution_count": null,
   "metadata": {},
   "outputs": [],
   "source": [
    "pip install --upgrade --force-reinstall <name of the package>"
   ]
  },
  {
   "cell_type": "markdown",
   "metadata": {},
   "source": [
    "Now, press highlight something, press the shortcut and voila! The code will run! \n",
    "\n",
    "This method can be used to run any script."
   ]
  }
 ],
 "metadata": {
  "kernelspec": {
   "display_name": "Python 3",
   "language": "python",
   "name": "python3"
  },
  "language_info": {
   "codemirror_mode": {
    "name": "ipython",
    "version": 3
   },
   "file_extension": ".py",
   "mimetype": "text/x-python",
   "name": "python",
   "nbconvert_exporter": "python",
   "pygments_lexer": "ipython3",
   "version": "3.7.6"
  }
 },
 "nbformat": 4,
 "nbformat_minor": 4
}
